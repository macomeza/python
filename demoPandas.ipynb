# En este ejemplo les comparto cómo hacer un uso básico de Pandas
