# En este ejemplo les comparto cómo hacer un uso básico de Pandas

#importar la libreria
import pandas as pd

#leer el csv, primero descargarlo desde https://github.com/pravinwagh/Python-Projects/blob/master/faa_ai_prelim.csv, se debe usar la versión raw del archivo
df_faa_dataset = pd.read_csv('https://raw.githubusercontent.com/pravinwagh/Python-Projects/master/faa_ai_prelim.csv')
