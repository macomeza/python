{
 "cells": [
  {
   "cell_type": "code",
   "execution_count": 2,
   "metadata": {},
   "outputs": [],
   "source": [
    "import pandas as pd\n",
    "soccer = {'Team':['Brasil','Argentina','France','Spain'],'Rank':[1,2,3,4]}\n",
    "basket = {'Team':['USA','Argentina','Brasil','Spain'],'Rank':[1,3,4,2]}"
   ]
  },
  {
   "cell_type": "code",
   "execution_count": 3,
   "metadata": {},
   "outputs": [],
   "source": [
    "df_soccer = pd.DataFrame(soccer)\n",
    "df_basket = pd.DataFrame(basket)"
   ]
  },
  {
   "cell_type": "code",
   "execution_count": 4,
   "metadata": {},
   "outputs": [
    {
     "name": "stdout",
     "output_type": "stream",
     "text": [
      "        Team  Rank_x  Rank_y\n",
      "0     Brasil       1     4.0\n",
      "1  Argentina       2     3.0\n",
      "2     France       3     NaN\n",
      "3      Spain       4     2.0\n"
     ]
    }
   ],
   "source": [
    "#left join\n",
    "print(pd.merge(df_soccer,df_basket,on='Team',how='left'))"
   ]
  },
  {
   "cell_type": "code",
   "execution_count": 5,
   "metadata": {},
   "outputs": [
    {
     "name": "stdout",
     "output_type": "stream",
     "text": [
      "        Team  Rank_x  Rank_y\n",
      "0        USA     NaN       1\n",
      "1  Argentina     2.0       3\n",
      "2     Brasil     1.0       4\n",
      "3      Spain     4.0       2\n"
     ]
    }
   ],
   "source": [
    "#right join\n",
    "print(pd.merge(df_soccer,df_basket,on='Team',how='right'))"
   ]
  },
  {
   "cell_type": "code",
   "execution_count": 6,
   "metadata": {},
   "outputs": [
    {
     "name": "stdout",
     "output_type": "stream",
     "text": [
      "        Team  Rank_x  Rank_y\n",
      "0     Brasil       1       4\n",
      "1  Argentina       2       3\n",
      "2      Spain       4       2\n"
     ]
    }
   ],
   "source": [
    "#inner join\n",
    "print(pd.merge(df_soccer,df_basket,on='Team',how='inner'))"
   ]
  },
  {
   "cell_type": "code",
   "execution_count": 7,
   "metadata": {},
   "outputs": [
    {
     "name": "stdout",
     "output_type": "stream",
     "text": [
      "        Team  Rank_x  Rank_y\n",
      "0     Brasil     1.0     4.0\n",
      "1  Argentina     2.0     3.0\n",
      "2     France     3.0     NaN\n",
      "3      Spain     4.0     2.0\n",
      "4        USA     NaN     1.0\n"
     ]
    }
   ],
   "source": [
    "#outer join\n",
    "print(pd.merge(df_soccer,df_basket,on='Team',how='outer'))"
   ]
  }
 ],
 "metadata": {
  "kernelspec": {
   "display_name": ".venv",
   "language": "python",
   "name": "python3"
  },
  "language_info": {
   "codemirror_mode": {
    "name": "ipython",
    "version": 3
   },
   "file_extension": ".py",
   "mimetype": "text/x-python",
   "name": "python",
   "nbconvert_exporter": "python",
   "pygments_lexer": "ipython3",
   "version": "3.11.0 (main, Oct 24 2022, 18:26:48) [MSC v.1933 64 bit (AMD64)]"
  },
  "orig_nbformat": 4,
  "vscode": {
   "interpreter": {
    "hash": "cf780f5b589e502a628e07042d83b7c6604e6677ead3d6da0c937d7dc1ca8b9e"
   }
  }
 },
 "nbformat": 4,
 "nbformat_minor": 2
}
