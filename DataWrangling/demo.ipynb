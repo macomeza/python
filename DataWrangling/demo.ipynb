import pandas as pd
soccer = {'Team':['Brasil','Argentina','France','Spain'],'Rank':[1,2,3,4]}
basket = {'Team':['USA','Argentina','Brasil','Spain'],'Rank':[1,3,4,2]}
