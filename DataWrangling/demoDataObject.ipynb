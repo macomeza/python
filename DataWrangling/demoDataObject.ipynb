{
 "cells": [
  {
   "cell_type": "code",
   "execution_count": 1,
   "metadata": {},
   "outputs": [],
   "source": [
    "import pandas as pd\n",
    "import numpy as np"
   ]
  },
  {
   "cell_type": "code",
   "execution_count": 2,
   "metadata": {},
   "outputs": [
    {
     "name": "stdout",
     "output_type": "stream",
     "text": [
      "0    1\n",
      "1    2\n",
      "2    3\n",
      "3    4\n",
      "4    5\n",
      "5    6\n",
      "dtype: int32\n"
     ]
    }
   ],
   "source": [
    "#mostrar los n primeros \n",
    "df = pd.Series(np.arange (1,51))\n",
    "print (df.head(6))"
   ]
  },
  {
   "cell_type": "code",
   "execution_count": 3,
   "metadata": {},
   "outputs": [
    {
     "name": "stdout",
     "output_type": "stream",
     "text": [
      "46    47\n",
      "47    48\n",
      "48    49\n",
      "49    50\n",
      "dtype: int32\n"
     ]
    }
   ],
   "source": [
    "#mostrar los m ultimos\n",
    "print (df.tail(4))"
   ]
  },
  {
   "cell_type": "code",
   "execution_count": 5,
   "metadata": {},
   "outputs": [
    {
     "name": "stdout",
     "output_type": "stream",
     "text": [
      "[ 1  2  3  4  5  6  7  8  9 10 11 12 13 14 15 16 17 18 19 20 21 22 23 24\n",
      " 25 26 27 28 29 30 31 32 33 34 35 36 37 38 39 40 41 42 43 44 45 46 47 48\n",
      " 49 50]\n"
     ]
    }
   ],
   "source": [
    "#regresa los valores guardados en el dataframe\n",
    "print (df.values)"
   ]
  },
  {
   "cell_type": "code",
   "execution_count": 10,
   "metadata": {},
   "outputs": [
    {
     "name": "stdout",
     "output_type": "stream",
     "text": [
      "{'Argentina': [0, 6, 7], 'Brasil': [1, 5], 'Croatia': [3], 'France': [2], 'Morocco': [4]}\n"
     ]
    }
   ],
   "source": [
    "#agrupar el dataframe según alguna condición\n",
    "world_cup = {'Team':['Argentina','Brasil','France','Croatia','Morocco','Brasil','Argentina','Argentina'],'Rank':[2,1,3,4,5,1,7,1]}\n",
    "df=pd.DataFrame(world_cup)\n",
    "print(df.groupby(['Team']).groups)"
   ]
  },
  {
   "cell_type": "code",
   "execution_count": 17,
   "metadata": {},
   "outputs": [],
   "source": [
    "#combinar estructuras\n",
    "basket = {'Team':['USA','Argentina','Spain','Brasil'],'Rank':[1,2,3,4]}\n",
    "df_basket = pd.DataFrame(basket)\n"
   ]
  },
  {
   "cell_type": "code",
   "execution_count": 18,
   "metadata": {},
   "outputs": [
    {
     "name": "stdout",
     "output_type": "stream",
     "text": [
      "        Team  Rank\n",
      "0  Argentina     2\n",
      "1     Brasil     1\n",
      "2     France     3\n",
      "3    Croatia     4\n",
      "4    Morocco     5\n",
      "5     Brasil     1\n",
      "6  Argentina     7\n",
      "7  Argentina     1\n",
      "0        USA     1\n",
      "1  Argentina     2\n",
      "2      Spain     3\n",
      "3     Brasil     4\n"
     ]
    }
   ],
   "source": [
    "#combinar en filas\n",
    "print(pd.concat([df,df_basket],axis=0))"
   ]
  },
  {
   "cell_type": "code",
   "execution_count": 19,
   "metadata": {},
   "outputs": [
    {
     "name": "stdout",
     "output_type": "stream",
     "text": [
      "        Team  Rank       Team  Rank\n",
      "0  Argentina     2        USA   1.0\n",
      "1     Brasil     1  Argentina   2.0\n",
      "2     France     3      Spain   3.0\n",
      "3    Croatia     4     Brasil   4.0\n",
      "4    Morocco     5        NaN   NaN\n",
      "5     Brasil     1        NaN   NaN\n",
      "6  Argentina     7        NaN   NaN\n",
      "7  Argentina     1        NaN   NaN\n"
     ]
    }
   ],
   "source": [
    "#combinar en columnas\n",
    "print(pd.concat([df,df_basket],axis=1))"
   ]
  },
  {
   "cell_type": "code",
   "execution_count": 20,
   "metadata": {},
   "outputs": [
    {
     "name": "stdout",
     "output_type": "stream",
     "text": [
      "        Team  Rank_x  Rank_y\n",
      "0  Argentina       2       2\n",
      "1  Argentina       7       2\n",
      "2  Argentina       1       2\n",
      "3     Brasil       1       4\n",
      "4     Brasil       1       4\n"
     ]
    }
   ],
   "source": [
    "#hacer una unión de dos dataframes\n",
    "print(pd.merge(df,df_basket,on='Team'))"
   ]
  }
 ],
 "metadata": {
  "kernelspec": {
   "display_name": ".venv",
   "language": "python",
   "name": "python3"
  },
  "language_info": {
   "codemirror_mode": {
    "name": "ipython",
    "version": 3
   },
   "file_extension": ".py",
   "mimetype": "text/x-python",
   "name": "python",
   "nbconvert_exporter": "python",
   "pygments_lexer": "ipython3",
   "version": "3.11.0 (main, Oct 24 2022, 18:26:48) [MSC v.1933 64 bit (AMD64)]"
  },
  "orig_nbformat": 4,
  "vscode": {
   "interpreter": {
    "hash": "cf780f5b589e502a628e07042d83b7c6604e6677ead3d6da0c937d7dc1ca8b9e"
   }
  }
 },
 "nbformat": 4,
 "nbformat_minor": 2
}
